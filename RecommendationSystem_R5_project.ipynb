{
 "cells": [
  {
   "cell_type": "markdown",
   "metadata": {},
   "source": [
    "### Build a recommendation system for products on an e-commerce website like Amazon.com"
   ]
  },
  {
   "cell_type": "code",
   "execution_count": 1,
   "metadata": {},
   "outputs": [],
   "source": [
    "# Load the libraries \n",
    "import time\n",
    "import random\n",
    "import pandas as pd\n",
    "import numpy as np\n",
    "import Recommender as Recommender\n",
    "import Evaluation as Evaluation"
   ]
  },
  {
   "cell_type": "code",
   "execution_count": 2,
   "metadata": {},
   "outputs": [],
   "source": [
    "# Read the dataset\n",
    "\n",
    "ratings = pd.read_csv('ratings_Electronics.csv')\n",
    "ratings.columns = ['userID', 'ProdID', 'Rating','Timestamp']"
   ]
  },
  {
   "cell_type": "code",
   "execution_count": 3,
   "metadata": {},
   "outputs": [
    {
     "data": {
      "text/plain": [
       "userID       7824481\n",
       "ProdID       7824481\n",
       "Rating       7824481\n",
       "Timestamp    7824481\n",
       "dtype: int64"
      ]
     },
     "execution_count": 3,
     "metadata": {},
     "output_type": "execute_result"
    }
   ],
   "source": [
    "ratings.count()"
   ]
  },
  {
   "cell_type": "code",
   "execution_count": 4,
   "metadata": {},
   "outputs": [
    {
     "data": {
      "text/html": [
       "<div>\n",
       "<style scoped>\n",
       "    .dataframe tbody tr th:only-of-type {\n",
       "        vertical-align: middle;\n",
       "    }\n",
       "\n",
       "    .dataframe tbody tr th {\n",
       "        vertical-align: top;\n",
       "    }\n",
       "\n",
       "    .dataframe thead th {\n",
       "        text-align: right;\n",
       "    }\n",
       "</style>\n",
       "<table border=\"1\" class=\"dataframe\">\n",
       "  <thead>\n",
       "    <tr style=\"text-align: right;\">\n",
       "      <th></th>\n",
       "      <th>userID</th>\n",
       "      <th>ProdID</th>\n",
       "      <th>Rating</th>\n",
       "      <th>Timestamp</th>\n",
       "    </tr>\n",
       "  </thead>\n",
       "  <tbody>\n",
       "    <tr>\n",
       "      <th>0</th>\n",
       "      <td>A2CX7LUOHB2NDG</td>\n",
       "      <td>0321732944</td>\n",
       "      <td>5.0</td>\n",
       "      <td>1341100800</td>\n",
       "    </tr>\n",
       "    <tr>\n",
       "      <th>1</th>\n",
       "      <td>A2NWSAGRHCP8N5</td>\n",
       "      <td>0439886341</td>\n",
       "      <td>1.0</td>\n",
       "      <td>1367193600</td>\n",
       "    </tr>\n",
       "    <tr>\n",
       "      <th>2</th>\n",
       "      <td>A2WNBOD3WNDNKT</td>\n",
       "      <td>0439886341</td>\n",
       "      <td>3.0</td>\n",
       "      <td>1374451200</td>\n",
       "    </tr>\n",
       "    <tr>\n",
       "      <th>3</th>\n",
       "      <td>A1GI0U4ZRJA8WN</td>\n",
       "      <td>0439886341</td>\n",
       "      <td>1.0</td>\n",
       "      <td>1334707200</td>\n",
       "    </tr>\n",
       "    <tr>\n",
       "      <th>4</th>\n",
       "      <td>A1QGNMC6O1VW39</td>\n",
       "      <td>0511189877</td>\n",
       "      <td>5.0</td>\n",
       "      <td>1397433600</td>\n",
       "    </tr>\n",
       "  </tbody>\n",
       "</table>\n",
       "</div>"
      ],
      "text/plain": [
       "           userID      ProdID  Rating   Timestamp\n",
       "0  A2CX7LUOHB2NDG  0321732944     5.0  1341100800\n",
       "1  A2NWSAGRHCP8N5  0439886341     1.0  1367193600\n",
       "2  A2WNBOD3WNDNKT  0439886341     3.0  1374451200\n",
       "3  A1GI0U4ZRJA8WN  0439886341     1.0  1334707200\n",
       "4  A1QGNMC6O1VW39  0511189877     5.0  1397433600"
      ]
     },
     "execution_count": 4,
     "metadata": {},
     "output_type": "execute_result"
    }
   ],
   "source": [
    "ratings.head()"
   ]
  },
  {
   "cell_type": "code",
   "execution_count": 5,
   "metadata": {},
   "outputs": [],
   "source": [
    "ratings.drop('Timestamp',axis=1,inplace=True) # Timestamp is not useful in this modelling. Hence dropping the column."
   ]
  },
  {
   "cell_type": "code",
   "execution_count": 6,
   "metadata": {},
   "outputs": [
    {
     "data": {
      "text/plain": [
       "userID    False\n",
       "ProdID    False\n",
       "Rating    False\n",
       "dtype: bool"
      ]
     },
     "execution_count": 6,
     "metadata": {},
     "output_type": "execute_result"
    }
   ],
   "source": [
    "ratings.isnull().any() #check for any missing values or nulls"
   ]
  },
  {
   "cell_type": "code",
   "execution_count": 7,
   "metadata": {},
   "outputs": [
    {
     "data": {
      "text/plain": [
       "array([5., 1., 3., 2., 4.])"
      ]
     },
     "execution_count": 7,
     "metadata": {},
     "output_type": "execute_result"
    }
   ],
   "source": [
    "ratings['Rating'].unique()"
   ]
  },
  {
   "cell_type": "code",
   "execution_count": 8,
   "metadata": {},
   "outputs": [
    {
     "data": {
      "text/plain": [
       "(476001,)"
      ]
     },
     "execution_count": 8,
     "metadata": {},
     "output_type": "execute_result"
    }
   ],
   "source": [
    "ratings['ProdID'].unique().shape"
   ]
  },
  {
   "cell_type": "code",
   "execution_count": 9,
   "metadata": {},
   "outputs": [
    {
     "data": {
      "text/plain": [
       "(4201696,)"
      ]
     },
     "execution_count": 9,
     "metadata": {},
     "output_type": "execute_result"
    }
   ],
   "source": [
    "ratings['userID'].unique().shape"
   ]
  },
  {
   "cell_type": "code",
   "execution_count": 10,
   "metadata": {},
   "outputs": [
    {
     "data": {
      "text/plain": [
       "(4138521, 2)"
      ]
     },
     "execution_count": 10,
     "metadata": {},
     "output_type": "execute_result"
    }
   ],
   "source": [
    "# Identifying users who have rated less than 10 products.\n",
    "\n",
    "users=ratings.groupby('userID').count() \n",
    "user_r10=users[users['Rating']<10]\n",
    "user_r10.shape"
   ]
  },
  {
   "cell_type": "markdown",
   "metadata": {},
   "source": [
    "* Almost 98% of the users have rated less than 10 products."
   ]
  },
  {
   "cell_type": "code",
   "execution_count": 11,
   "metadata": {},
   "outputs": [
    {
     "data": {
      "text/plain": [
       "(1540, 2)"
      ]
     },
     "execution_count": 11,
     "metadata": {},
     "output_type": "execute_result"
    }
   ],
   "source": [
    "# consider users who has given 50 or more number of ratings to get a more dense dataset\n",
    "\n",
    "users= users[users['Rating']>=50]\n",
    "users.shape"
   ]
  },
  {
   "cell_type": "markdown",
   "metadata": {},
   "source": [
    "### Dataset by Merging ratings with users "
   ]
  },
  {
   "cell_type": "code",
   "execution_count": 12,
   "metadata": {},
   "outputs": [],
   "source": [
    "df=pd.merge(ratings,users,on='userID')"
   ]
  },
  {
   "cell_type": "code",
   "execution_count": 13,
   "metadata": {},
   "outputs": [],
   "source": [
    "df.drop(['ProdID_y','Rating_y'],axis=1,inplace=True)"
   ]
  },
  {
   "cell_type": "code",
   "execution_count": 14,
   "metadata": {},
   "outputs": [],
   "source": [
    "df.columns=['userID','ProdID','Rating']"
   ]
  },
  {
   "cell_type": "code",
   "execution_count": 15,
   "metadata": {},
   "outputs": [
    {
     "data": {
      "text/html": [
       "<div>\n",
       "<style scoped>\n",
       "    .dataframe tbody tr th:only-of-type {\n",
       "        vertical-align: middle;\n",
       "    }\n",
       "\n",
       "    .dataframe tbody tr th {\n",
       "        vertical-align: top;\n",
       "    }\n",
       "\n",
       "    .dataframe thead th {\n",
       "        text-align: right;\n",
       "    }\n",
       "</style>\n",
       "<table border=\"1\" class=\"dataframe\">\n",
       "  <thead>\n",
       "    <tr style=\"text-align: right;\">\n",
       "      <th></th>\n",
       "      <th>userID</th>\n",
       "      <th>ProdID</th>\n",
       "      <th>Rating</th>\n",
       "    </tr>\n",
       "  </thead>\n",
       "  <tbody>\n",
       "    <tr>\n",
       "      <th>0</th>\n",
       "      <td>A3BY5KCNQZXV5U</td>\n",
       "      <td>0594451647</td>\n",
       "      <td>5.0</td>\n",
       "    </tr>\n",
       "    <tr>\n",
       "      <th>1</th>\n",
       "      <td>A3BY5KCNQZXV5U</td>\n",
       "      <td>B00000JD4V</td>\n",
       "      <td>4.0</td>\n",
       "    </tr>\n",
       "    <tr>\n",
       "      <th>2</th>\n",
       "      <td>A3BY5KCNQZXV5U</td>\n",
       "      <td>B000063574</td>\n",
       "      <td>5.0</td>\n",
       "    </tr>\n",
       "    <tr>\n",
       "      <th>3</th>\n",
       "      <td>A3BY5KCNQZXV5U</td>\n",
       "      <td>B0000CDJP8</td>\n",
       "      <td>5.0</td>\n",
       "    </tr>\n",
       "    <tr>\n",
       "      <th>4</th>\n",
       "      <td>A3BY5KCNQZXV5U</td>\n",
       "      <td>B0007Y794O</td>\n",
       "      <td>5.0</td>\n",
       "    </tr>\n",
       "  </tbody>\n",
       "</table>\n",
       "</div>"
      ],
      "text/plain": [
       "           userID      ProdID  Rating\n",
       "0  A3BY5KCNQZXV5U  0594451647     5.0\n",
       "1  A3BY5KCNQZXV5U  B00000JD4V     4.0\n",
       "2  A3BY5KCNQZXV5U  B000063574     5.0\n",
       "3  A3BY5KCNQZXV5U  B0000CDJP8     5.0\n",
       "4  A3BY5KCNQZXV5U  B0007Y794O     5.0"
      ]
     },
     "execution_count": 15,
     "metadata": {},
     "output_type": "execute_result"
    }
   ],
   "source": [
    "df.head()"
   ]
  },
  {
   "cell_type": "code",
   "execution_count": 16,
   "metadata": {},
   "outputs": [
    {
     "data": {
      "text/plain": [
       "(48190,)"
      ]
     },
     "execution_count": 16,
     "metadata": {},
     "output_type": "execute_result"
    }
   ],
   "source": [
    "df['ProdID'].unique().shape"
   ]
  },
  {
   "cell_type": "code",
   "execution_count": 17,
   "metadata": {},
   "outputs": [
    {
     "data": {
      "text/html": [
       "<div>\n",
       "<style scoped>\n",
       "    .dataframe tbody tr th:only-of-type {\n",
       "        vertical-align: middle;\n",
       "    }\n",
       "\n",
       "    .dataframe tbody tr th {\n",
       "        vertical-align: top;\n",
       "    }\n",
       "\n",
       "    .dataframe thead th {\n",
       "        text-align: right;\n",
       "    }\n",
       "</style>\n",
       "<table border=\"1\" class=\"dataframe\">\n",
       "  <thead>\n",
       "    <tr style=\"text-align: right;\">\n",
       "      <th></th>\n",
       "      <th>Rating</th>\n",
       "    </tr>\n",
       "  </thead>\n",
       "  <tbody>\n",
       "    <tr>\n",
       "      <th>count</th>\n",
       "      <td>125871.000000</td>\n",
       "    </tr>\n",
       "    <tr>\n",
       "      <th>mean</th>\n",
       "      <td>4.261339</td>\n",
       "    </tr>\n",
       "    <tr>\n",
       "      <th>std</th>\n",
       "      <td>1.062144</td>\n",
       "    </tr>\n",
       "    <tr>\n",
       "      <th>min</th>\n",
       "      <td>1.000000</td>\n",
       "    </tr>\n",
       "    <tr>\n",
       "      <th>25%</th>\n",
       "      <td>4.000000</td>\n",
       "    </tr>\n",
       "    <tr>\n",
       "      <th>50%</th>\n",
       "      <td>5.000000</td>\n",
       "    </tr>\n",
       "    <tr>\n",
       "      <th>75%</th>\n",
       "      <td>5.000000</td>\n",
       "    </tr>\n",
       "    <tr>\n",
       "      <th>max</th>\n",
       "      <td>5.000000</td>\n",
       "    </tr>\n",
       "  </tbody>\n",
       "</table>\n",
       "</div>"
      ],
      "text/plain": [
       "              Rating\n",
       "count  125871.000000\n",
       "mean        4.261339\n",
       "std         1.062144\n",
       "min         1.000000\n",
       "25%         4.000000\n",
       "50%         5.000000\n",
       "75%         5.000000\n",
       "max         5.000000"
      ]
     },
     "execution_count": 17,
     "metadata": {},
     "output_type": "execute_result"
    }
   ],
   "source": [
    "df.describe()"
   ]
  },
  {
   "cell_type": "code",
   "execution_count": 18,
   "metadata": {},
   "outputs": [],
   "source": [
    "# Consider Products having 5 star rating for recommendation\n",
    "\n",
    "df=df[df['Rating']==5]"
   ]
  },
  {
   "cell_type": "code",
   "execution_count": 19,
   "metadata": {},
   "outputs": [
    {
     "data": {
      "text/plain": [
       "(71034, 3)"
      ]
     },
     "execution_count": 19,
     "metadata": {},
     "output_type": "execute_result"
    }
   ],
   "source": [
    "df.shape"
   ]
  },
  {
   "cell_type": "code",
   "execution_count": 20,
   "metadata": {},
   "outputs": [
    {
     "data": {
      "text/plain": [
       "(32733,)"
      ]
     },
     "execution_count": 20,
     "metadata": {},
     "output_type": "execute_result"
    }
   ],
   "source": [
    "df['ProdID'].unique().shape"
   ]
  },
  {
   "cell_type": "markdown",
   "metadata": {},
   "source": [
    "### Split-out train test dataset"
   ]
  },
  {
   "cell_type": "code",
   "execution_count": 21,
   "metadata": {},
   "outputs": [
    {
     "data": {
      "text/html": [
       "<div>\n",
       "<style scoped>\n",
       "    .dataframe tbody tr th:only-of-type {\n",
       "        vertical-align: middle;\n",
       "    }\n",
       "\n",
       "    .dataframe tbody tr th {\n",
       "        vertical-align: top;\n",
       "    }\n",
       "\n",
       "    .dataframe thead th {\n",
       "        text-align: right;\n",
       "    }\n",
       "</style>\n",
       "<table border=\"1\" class=\"dataframe\">\n",
       "  <thead>\n",
       "    <tr style=\"text-align: right;\">\n",
       "      <th></th>\n",
       "      <th>userID</th>\n",
       "      <th>ProdID</th>\n",
       "      <th>Rating</th>\n",
       "    </tr>\n",
       "  </thead>\n",
       "  <tbody>\n",
       "    <tr>\n",
       "      <th>43457</th>\n",
       "      <td>A15QYHQH80W30L</td>\n",
       "      <td>B001TH7GUU</td>\n",
       "      <td>5.0</td>\n",
       "    </tr>\n",
       "    <tr>\n",
       "      <th>38786</th>\n",
       "      <td>A1EKSETIBS9ETQ</td>\n",
       "      <td>B0015MFTE4</td>\n",
       "      <td>5.0</td>\n",
       "    </tr>\n",
       "    <tr>\n",
       "      <th>67656</th>\n",
       "      <td>A7FDGFK0KN7QG</td>\n",
       "      <td>B000FA7PQ2</td>\n",
       "      <td>5.0</td>\n",
       "    </tr>\n",
       "    <tr>\n",
       "      <th>119228</th>\n",
       "      <td>AY3D7DG5L5WCK</td>\n",
       "      <td>B00F1CRTLK</td>\n",
       "      <td>5.0</td>\n",
       "    </tr>\n",
       "    <tr>\n",
       "      <th>62902</th>\n",
       "      <td>AWNJAY0M5UI70</td>\n",
       "      <td>B005KJ82KG</td>\n",
       "      <td>5.0</td>\n",
       "    </tr>\n",
       "  </tbody>\n",
       "</table>\n",
       "</div>"
      ],
      "text/plain": [
       "                userID      ProdID  Rating\n",
       "43457   A15QYHQH80W30L  B001TH7GUU     5.0\n",
       "38786   A1EKSETIBS9ETQ  B0015MFTE4     5.0\n",
       "67656    A7FDGFK0KN7QG  B000FA7PQ2     5.0\n",
       "119228   AY3D7DG5L5WCK  B00F1CRTLK     5.0\n",
       "62902    AWNJAY0M5UI70  B005KJ82KG     5.0"
      ]
     },
     "execution_count": 21,
     "metadata": {},
     "output_type": "execute_result"
    }
   ],
   "source": [
    "from sklearn.model_selection import train_test_split\n",
    "train_data, test_data = train_test_split(df, test_size = 0.30, random_state=0)\n",
    "train_data.head(5)"
   ]
  },
  {
   "cell_type": "code",
   "execution_count": 22,
   "metadata": {},
   "outputs": [
    {
     "data": {
      "text/plain": [
       "(49723, 3)"
      ]
     },
     "execution_count": 22,
     "metadata": {},
     "output_type": "execute_result"
    }
   ],
   "source": [
    "train_data.shape"
   ]
  },
  {
   "cell_type": "markdown",
   "metadata": {},
   "source": [
    "### Showing the most popular Products in the dataset"
   ]
  },
  {
   "cell_type": "code",
   "execution_count": 23,
   "metadata": {},
   "outputs": [
    {
     "data": {
      "text/html": [
       "<div>\n",
       "<style scoped>\n",
       "    .dataframe tbody tr th:only-of-type {\n",
       "        vertical-align: middle;\n",
       "    }\n",
       "\n",
       "    .dataframe tbody tr th {\n",
       "        vertical-align: top;\n",
       "    }\n",
       "\n",
       "    .dataframe thead th {\n",
       "        text-align: right;\n",
       "    }\n",
       "</style>\n",
       "<table border=\"1\" class=\"dataframe\">\n",
       "  <thead>\n",
       "    <tr style=\"text-align: right;\">\n",
       "      <th></th>\n",
       "      <th>ProdID</th>\n",
       "      <th>Rating</th>\n",
       "    </tr>\n",
       "  </thead>\n",
       "  <tbody>\n",
       "    <tr>\n",
       "      <th>0</th>\n",
       "      <td>0594451647</td>\n",
       "      <td>1</td>\n",
       "    </tr>\n",
       "    <tr>\n",
       "      <th>1</th>\n",
       "      <td>0972683275</td>\n",
       "      <td>1</td>\n",
       "    </tr>\n",
       "    <tr>\n",
       "      <th>2</th>\n",
       "      <td>1400501466</td>\n",
       "      <td>2</td>\n",
       "    </tr>\n",
       "    <tr>\n",
       "      <th>3</th>\n",
       "      <td>1400532655</td>\n",
       "      <td>1</td>\n",
       "    </tr>\n",
       "    <tr>\n",
       "      <th>4</th>\n",
       "      <td>1400599997</td>\n",
       "      <td>3</td>\n",
       "    </tr>\n",
       "  </tbody>\n",
       "</table>\n",
       "</div>"
      ],
      "text/plain": [
       "       ProdID  Rating\n",
       "0  0594451647       1\n",
       "1  0972683275       1\n",
       "2  1400501466       2\n",
       "3  1400532655       1\n",
       "4  1400599997       3"
      ]
     },
     "execution_count": 23,
     "metadata": {},
     "output_type": "execute_result"
    }
   ],
   "source": [
    "popular_Prod=train_data.groupby('ProdID').agg({'Rating': 'count'}).reset_index()\n",
    "popular_Prod.head()"
   ]
  },
  {
   "cell_type": "code",
   "execution_count": 24,
   "metadata": {},
   "outputs": [],
   "source": [
    "grouped_sum = popular_Prod['Rating'].sum()\n",
    "popular_Prod['score']=popular_Prod['Rating']/grouped_sum"
   ]
  },
  {
   "cell_type": "code",
   "execution_count": 25,
   "metadata": {},
   "outputs": [
    {
     "data": {
      "text/html": [
       "<div>\n",
       "<style scoped>\n",
       "    .dataframe tbody tr th:only-of-type {\n",
       "        vertical-align: middle;\n",
       "    }\n",
       "\n",
       "    .dataframe tbody tr th {\n",
       "        vertical-align: top;\n",
       "    }\n",
       "\n",
       "    .dataframe thead th {\n",
       "        text-align: right;\n",
       "    }\n",
       "</style>\n",
       "<table border=\"1\" class=\"dataframe\">\n",
       "  <thead>\n",
       "    <tr style=\"text-align: right;\">\n",
       "      <th></th>\n",
       "      <th>ProdID</th>\n",
       "      <th>Rating</th>\n",
       "      <th>score</th>\n",
       "    </tr>\n",
       "  </thead>\n",
       "  <tbody>\n",
       "    <tr>\n",
       "      <th>12920</th>\n",
       "      <td>B003ES5ZUU</td>\n",
       "      <td>108</td>\n",
       "      <td>0.002172</td>\n",
       "    </tr>\n",
       "    <tr>\n",
       "      <th>5635</th>\n",
       "      <td>B000N99BBC</td>\n",
       "      <td>102</td>\n",
       "      <td>0.002051</td>\n",
       "    </tr>\n",
       "    <tr>\n",
       "      <th>20095</th>\n",
       "      <td>B007WTAJTO</td>\n",
       "      <td>89</td>\n",
       "      <td>0.001790</td>\n",
       "    </tr>\n",
       "    <tr>\n",
       "      <th>11703</th>\n",
       "      <td>B002V88HFE</td>\n",
       "      <td>63</td>\n",
       "      <td>0.001267</td>\n",
       "    </tr>\n",
       "    <tr>\n",
       "      <th>20497</th>\n",
       "      <td>B0088CJT4U</td>\n",
       "      <td>62</td>\n",
       "      <td>0.001247</td>\n",
       "    </tr>\n",
       "    <tr>\n",
       "      <th>11782</th>\n",
       "      <td>B002WE6D44</td>\n",
       "      <td>60</td>\n",
       "      <td>0.001207</td>\n",
       "    </tr>\n",
       "    <tr>\n",
       "      <th>20293</th>\n",
       "      <td>B00829TIEK</td>\n",
       "      <td>59</td>\n",
       "      <td>0.001187</td>\n",
       "    </tr>\n",
       "    <tr>\n",
       "      <th>6054</th>\n",
       "      <td>B000QUUFRW</td>\n",
       "      <td>58</td>\n",
       "      <td>0.001166</td>\n",
       "    </tr>\n",
       "    <tr>\n",
       "      <th>12160</th>\n",
       "      <td>B0034CL2ZI</td>\n",
       "      <td>58</td>\n",
       "      <td>0.001166</td>\n",
       "    </tr>\n",
       "    <tr>\n",
       "      <th>15030</th>\n",
       "      <td>B004CLYEDC</td>\n",
       "      <td>58</td>\n",
       "      <td>0.001166</td>\n",
       "    </tr>\n",
       "  </tbody>\n",
       "</table>\n",
       "</div>"
      ],
      "text/plain": [
       "           ProdID  Rating     score\n",
       "12920  B003ES5ZUU     108  0.002172\n",
       "5635   B000N99BBC     102  0.002051\n",
       "20095  B007WTAJTO      89  0.001790\n",
       "11703  B002V88HFE      63  0.001267\n",
       "20497  B0088CJT4U      62  0.001247\n",
       "11782  B002WE6D44      60  0.001207\n",
       "20293  B00829TIEK      59  0.001187\n",
       "6054   B000QUUFRW      58  0.001166\n",
       "12160  B0034CL2ZI      58  0.001166\n",
       "15030  B004CLYEDC      58  0.001166"
      ]
     },
     "execution_count": 25,
     "metadata": {},
     "output_type": "execute_result"
    }
   ],
   "source": [
    "popular_Prod.sort_values(['Rating', 'ProdID'], ascending = [0,1]).head(10)"
   ]
  },
  {
   "cell_type": "markdown",
   "metadata": {},
   "source": [
    "### Build Popularity Recommender model"
   ]
  },
  {
   "cell_type": "code",
   "execution_count": 26,
   "metadata": {},
   "outputs": [],
   "source": [
    "pm = Recommender.popularity_recommender()\n",
    "pm.create(train_data, 'userID', 'ProdID')"
   ]
  },
  {
   "cell_type": "code",
   "execution_count": 27,
   "metadata": {},
   "outputs": [
    {
     "data": {
      "text/plain": [
       "array(['A15QYHQH80W30L', 'A1EKSETIBS9ETQ', 'A7FDGFK0KN7QG', ...,\n",
       "       'A2NXRD80LWHUOP', 'AQCJWSMSURQI2', 'A2EHYCA29NSQLU'], dtype=object)"
      ]
     },
     "execution_count": 27,
     "metadata": {},
     "output_type": "execute_result"
    }
   ],
   "source": [
    "users=train_data['userID'].unique()\n",
    "users"
   ]
  },
  {
   "cell_type": "markdown",
   "metadata": {},
   "source": [
    "### Top 5 Recommendations from Popularity Model"
   ]
  },
  {
   "cell_type": "code",
   "execution_count": 28,
   "metadata": {},
   "outputs": [
    {
     "data": {
      "text/html": [
       "<div>\n",
       "<style scoped>\n",
       "    .dataframe tbody tr th:only-of-type {\n",
       "        vertical-align: middle;\n",
       "    }\n",
       "\n",
       "    .dataframe tbody tr th {\n",
       "        vertical-align: top;\n",
       "    }\n",
       "\n",
       "    .dataframe thead th {\n",
       "        text-align: right;\n",
       "    }\n",
       "</style>\n",
       "<table border=\"1\" class=\"dataframe\">\n",
       "  <thead>\n",
       "    <tr style=\"text-align: right;\">\n",
       "      <th></th>\n",
       "      <th>user_id</th>\n",
       "      <th>ProdID</th>\n",
       "      <th>score</th>\n",
       "    </tr>\n",
       "  </thead>\n",
       "  <tbody>\n",
       "    <tr>\n",
       "      <th>12920</th>\n",
       "      <td>AY3XPKRAMKKY7</td>\n",
       "      <td>B003ES5ZUU</td>\n",
       "      <td>108</td>\n",
       "    </tr>\n",
       "    <tr>\n",
       "      <th>5635</th>\n",
       "      <td>AY3XPKRAMKKY7</td>\n",
       "      <td>B000N99BBC</td>\n",
       "      <td>102</td>\n",
       "    </tr>\n",
       "    <tr>\n",
       "      <th>20095</th>\n",
       "      <td>AY3XPKRAMKKY7</td>\n",
       "      <td>B007WTAJTO</td>\n",
       "      <td>89</td>\n",
       "    </tr>\n",
       "    <tr>\n",
       "      <th>11703</th>\n",
       "      <td>AY3XPKRAMKKY7</td>\n",
       "      <td>B002V88HFE</td>\n",
       "      <td>63</td>\n",
       "    </tr>\n",
       "    <tr>\n",
       "      <th>20497</th>\n",
       "      <td>AY3XPKRAMKKY7</td>\n",
       "      <td>B0088CJT4U</td>\n",
       "      <td>62</td>\n",
       "    </tr>\n",
       "  </tbody>\n",
       "</table>\n",
       "</div>"
      ],
      "text/plain": [
       "             user_id      ProdID  score\n",
       "12920  AY3XPKRAMKKY7  B003ES5ZUU    108\n",
       "5635   AY3XPKRAMKKY7  B000N99BBC    102\n",
       "20095  AY3XPKRAMKKY7  B007WTAJTO     89\n",
       "11703  AY3XPKRAMKKY7  B002V88HFE     63\n",
       "20497  AY3XPKRAMKKY7  B0088CJT4U     62"
      ]
     },
     "execution_count": 28,
     "metadata": {},
     "output_type": "execute_result"
    }
   ],
   "source": [
    "user_id = users[10]\n",
    "pm.recommend(user_id)"
   ]
  },
  {
   "cell_type": "markdown",
   "metadata": {},
   "source": [
    "### Build Collaborative Filtering model"
   ]
  },
  {
   "cell_type": "code",
   "execution_count": 29,
   "metadata": {},
   "outputs": [],
   "source": [
    "cm = Recommender.collaborative_recommender()\n",
    "cm.create(train_data, 'userID', 'ProdID')"
   ]
  },
  {
   "cell_type": "markdown",
   "metadata": {},
   "source": [
    "### Top 5 Recommendations of Collaborative model"
   ]
  },
  {
   "cell_type": "code",
   "execution_count": 30,
   "metadata": {},
   "outputs": [
    {
     "data": {
      "text/html": [
       "<div>\n",
       "<style scoped>\n",
       "    .dataframe tbody tr th:only-of-type {\n",
       "        vertical-align: middle;\n",
       "    }\n",
       "\n",
       "    .dataframe tbody tr th {\n",
       "        vertical-align: top;\n",
       "    }\n",
       "\n",
       "    .dataframe thead th {\n",
       "        text-align: right;\n",
       "    }\n",
       "</style>\n",
       "<table border=\"1\" class=\"dataframe\">\n",
       "  <thead>\n",
       "    <tr style=\"text-align: right;\">\n",
       "      <th></th>\n",
       "      <th>ProdID</th>\n",
       "      <th>score</th>\n",
       "    </tr>\n",
       "  </thead>\n",
       "  <tbody>\n",
       "    <tr>\n",
       "      <th>0</th>\n",
       "      <td>B00829TIA4</td>\n",
       "      <td>0.422381</td>\n",
       "    </tr>\n",
       "    <tr>\n",
       "      <th>1</th>\n",
       "      <td>B007WTAJTO</td>\n",
       "      <td>0.374754</td>\n",
       "    </tr>\n",
       "    <tr>\n",
       "      <th>2</th>\n",
       "      <td>B001TH7GUU</td>\n",
       "      <td>0.313930</td>\n",
       "    </tr>\n",
       "    <tr>\n",
       "      <th>3</th>\n",
       "      <td>B00829TIEK</td>\n",
       "      <td>0.312768</td>\n",
       "    </tr>\n",
       "    <tr>\n",
       "      <th>4</th>\n",
       "      <td>B004CLYEDC</td>\n",
       "      <td>0.286649</td>\n",
       "    </tr>\n",
       "  </tbody>\n",
       "</table>\n",
       "</div>"
      ],
      "text/plain": [
       "       ProdID     score\n",
       "0  B00829TIA4  0.422381\n",
       "1  B007WTAJTO  0.374754\n",
       "2  B001TH7GUU  0.313930\n",
       "3  B00829TIEK  0.312768\n",
       "4  B004CLYEDC  0.286649"
      ]
     },
     "execution_count": 30,
     "metadata": {},
     "output_type": "execute_result"
    }
   ],
   "source": [
    "user_id = users[10]\n",
    "cm.recommend(user_id)"
   ]
  },
  {
   "cell_type": "markdown",
   "metadata": {},
   "source": [
    "* For the same user (users[10]) we see the top 5 recommendations of both models\n",
    "* The results are different between the popularity based and collaborative based recommendation.\n",
    "* Popularity based model will return results based on the products that have rated by most number of the users.\n",
    "* Collaborative based model will identify user similarities and make personalized recommendations."
   ]
  },
  {
   "cell_type": "markdown",
   "metadata": {},
   "source": [
    "### Evaluate both the models"
   ]
  },
  {
   "cell_type": "code",
   "execution_count": 40,
   "metadata": {},
   "outputs": [
    {
     "name": "stdout",
     "output_type": "stream",
     "text": [
      "Number of common user_test_and_training:1536\n",
      "Number of user sample:76\n",
      "Getting recommendations for user:A2ED50E3KWKUKW\n",
      "Getting recommendations for user:A8WEXFRWX1ZHH\n",
      "Getting recommendations for user:A3O4OIBCML0683\n",
      "Getting recommendations for user:A3IUW081KXD3PE\n",
      "Getting recommendations for user:ABMNX856X89CS\n",
      "Getting recommendations for user:A1T1YSCDW0PD25\n",
      "Getting recommendations for user:A1LA4K5JF78BER\n",
      "Getting recommendations for user:A2DXENZNO2JT4F\n",
      "Getting recommendations for user:A1MJMYLRTZ76ZX\n",
      "Getting recommendations for user:A3963R7EPE3A7E\n",
      "Getting recommendations for user:A3RR2P5IS3DGPR\n",
      "Getting recommendations for user:A34DQINHT6NYJU\n",
      "Getting recommendations for user:A2PL06HW6KZH2\n",
      "Getting recommendations for user:A2DIQTZPF26T1L\n",
      "Getting recommendations for user:AW63IRQWH10GF\n",
      "Getting recommendations for user:A2LFWJ8X817QGX\n",
      "Getting recommendations for user:A2HV76MYH7UL3S\n",
      "Getting recommendations for user:A1R377IPZOKLMM\n",
      "Getting recommendations for user:A3F8T3BRXRX5P3\n",
      "Getting recommendations for user:A25HBO5V8S8SEA\n",
      "Getting recommendations for user:A1CN1P7147QDJC\n",
      "Getting recommendations for user:ASJLXOX1VD4DF\n",
      "Getting recommendations for user:AT8V3JOZD3KWK\n",
      "Getting recommendations for user:A2TKWMX4563NR6\n",
      "Getting recommendations for user:A3SU7JSTPH9CC9\n",
      "Getting recommendations for user:A1UCAVBNJUZMPR\n",
      "Getting recommendations for user:A203OCQQ12MAVT\n",
      "Getting recommendations for user:AWNJAY0M5UI70\n",
      "Getting recommendations for user:A1RCGK44YXNBBB\n",
      "Getting recommendations for user:A37D1ZP8GBHE38\n",
      "Getting recommendations for user:A3T4OHEAHOJ700\n",
      "Getting recommendations for user:A1CMD08Z49PGKQ\n",
      "Getting recommendations for user:A1N5FSCYN4796F\n",
      "Getting recommendations for user:A2JRDFIGWTX50J\n",
      "Getting recommendations for user:A1V4VVBQBFXRHC\n",
      "Getting recommendations for user:A2C8I2RQ0WG940\n",
      "Getting recommendations for user:A2Y3WWPUKIJ59I\n",
      "Getting recommendations for user:A35A2RWUMC737N\n",
      "Getting recommendations for user:A32JCI4AK2JTTG\n",
      "Getting recommendations for user:A1E1LEVQ9VQNK\n",
      "Getting recommendations for user:A303SNZ4AR7TDQ\n",
      "Getting recommendations for user:A2PZXXPGLXXKZU\n",
      "Getting recommendations for user:A1J5HIF41ENSMZ\n",
      "Getting recommendations for user:A3CJOB7CHOSZUG\n",
      "Getting recommendations for user:AW6J9IILGOZY3\n",
      "Getting recommendations for user:A3MU9G6YWKTGTA\n",
      "Getting recommendations for user:A28RSMADFCBJDT\n",
      "Getting recommendations for user:A2NT3W1F1XYBFZ\n",
      "Getting recommendations for user:A25FL6VLD7S23S\n",
      "Getting recommendations for user:A3MMR2WDKAK0PA\n",
      "Getting recommendations for user:A1TQZUSOU22E9M\n",
      "Getting recommendations for user:A22CW0ZHY3NJH8\n",
      "Getting recommendations for user:A250AXLRBVYKB4\n",
      "Getting recommendations for user:A6XLG77BC9R8R\n",
      "Getting recommendations for user:A21GW4L8FO307V\n",
      "Getting recommendations for user:A1BVE2ZIBKJ7YI\n",
      "Getting recommendations for user:A1V3TRGWOMA8LC\n",
      "Getting recommendations for user:A2D1ZQEFS1NBH2\n",
      "Getting recommendations for user:A38C12950IM24P\n",
      "Getting recommendations for user:A19FRW264WZTGP\n",
      "Getting recommendations for user:A7EU2BWLLCJY2\n",
      "Getting recommendations for user:A3PGVJF37JSHFO\n",
      "Getting recommendations for user:A1BC62X6HZJGZR\n",
      "Getting recommendations for user:A28N2AWOVO2PB\n",
      "Getting recommendations for user:A1BXVZSQOJE6UE\n",
      "Getting recommendations for user:A3QQGPI3CTV9SX\n",
      "Getting recommendations for user:A87N6UTYA6NOB\n",
      "Getting recommendations for user:AJEOFP6ZWY0MK\n",
      "Getting recommendations for user:A3KCETSIJNOK56\n",
      "Getting recommendations for user:A1B4MIXYVIKMU2\n",
      "Getting recommendations for user:A1XEQGYY1IL8CD\n",
      "Getting recommendations for user:A2UOHALGF2X77Q\n",
      "Getting recommendations for user:A3UKWQS8SRW6IO\n",
      "Getting recommendations for user:A2PY5ED630H0QJ\n",
      "Getting recommendations for user:A2IFKH3TJ10387\n",
      "Getting recommendations for user:AB094YABX21WQ\n",
      "3.637606143951416\n"
     ]
    }
   ],
   "source": [
    "\n",
    "start = time.time()\n",
    "\n",
    "#Define what percentage of users to use for precision recall calculation\n",
    "user_sample = 0.05\n",
    "\n",
    "#Instantiate the precision_recall_calculator class\n",
    "pr = Evaluation.precision_recall_calculator(test_data, train_data, pm, cm)\n",
    "\n",
    "#Call method to calculate precision and recall values\n",
    "(pm_avg_precision_list, pm_avg_recall_list, cm_avg_precision_list, cm_avg_recall_list) = pr.calculate_measures(user_sample)\n",
    "\n",
    "end = time.time()\n",
    "print(end - start)"
   ]
  },
  {
   "cell_type": "code",
   "execution_count": 41,
   "metadata": {},
   "outputs": [],
   "source": [
    "import pylab as pl\n",
    "\n",
    "#Method to generate precision and recall curve\n",
    "def plot_precision_recall(m1_precision_list, m1_recall_list, m1_label, m2_precision_list, m2_recall_list, m2_label):\n",
    "    pl.clf()    \n",
    "    pl.plot(m1_recall_list, m1_precision_list, label=m1_label)\n",
    "    pl.plot(m2_recall_list, m2_precision_list, label=m2_label)\n",
    "    pl.xlabel('Recall')\n",
    "    pl.ylabel('Precision')\n",
    "    pl.ylim([0.0, 0.2])\n",
    "    pl.xlim([0.0, 0.2])\n",
    "    pl.title('Precision-Recall curve')\n",
    "    pl.legend(loc=9, bbox_to_anchor=(0.5, -0.2))\n",
    "    pl.show()\n"
   ]
  },
  {
   "cell_type": "code",
   "execution_count": 42,
   "metadata": {},
   "outputs": [
    {
     "data": {
      "image/png": "[encoded data removed]",
      "text/plain": [
       "<Figure size 432x288 with 1 Axes>"
      ]
     },
     "metadata": {
      "needs_background": "light"
     },
     "output_type": "display_data"
    }
   ],
   "source": [
    "plot_precision_recall(pm_avg_precision_list, pm_avg_recall_list, \"popularity_model\",\n",
    "                      cm_avg_precision_list, cm_avg_recall_list, \"collaborative_model\")"
   ]
  },
  {
   "cell_type": "markdown",
   "metadata": {},
   "source": [
    "* For a sample of 76 users from the larger dataset, we observe the above the precision recall curve. \n",
    "* It can observed that collaborative model can provide better recall results compared to popularity model due to personalized recommendations."
   ]
  },
  {
   "cell_type": "code",
   "execution_count": null,
   "metadata": {},
   "outputs": [],
   "source": []
  }
 ],
 "metadata": {
  "kernelspec": {
   "display_name": "Python 3",
   "language": "python",
   "name": "python3"
  },
  "language_info": {
   "codemirror_mode": {
    "name": "ipython",
    "version": 3
   },
   "file_extension": ".py",
   "mimetype": "text/x-python",
   "name": "python",
   "nbconvert_exporter": "python",
   "pygments_lexer": "ipython3",
   "version": "3.7.0"
  }
 },
 "nbformat": 4,
 "nbformat_minor": 2
}
